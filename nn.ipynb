{
 "cells": [
  {
   "cell_type": "code",
   "execution_count": 3,
   "metadata": {},
   "outputs": [],
   "source": [
    "import jax\n",
    "import jax.numpy as jnp\n",
    "from jax import random, jit\n",
    "import pandas as pd"
   ]
  },
  {
   "cell_type": "code",
   "execution_count": 4,
   "metadata": {},
   "outputs": [],
   "source": [
    "data = pd.read_csv('data/digit-recognizer/train.csv')\n",
    "key = random.key(42)\n"
   ]
  },
  {
   "cell_type": "code",
   "execution_count": 5,
   "metadata": {},
   "outputs": [
    {
     "name": "stdout",
     "output_type": "stream",
     "text": [
      "42000 785\n"
     ]
    }
   ],
   "source": [
    "data = jnp.array(data)\n",
    "m, n = data.shape\n",
    "random.permutation(key, data, independent=True)\n",
    "print(m, n)"
   ]
  },
  {
   "cell_type": "code",
   "execution_count": 6,
   "metadata": {},
   "outputs": [
    {
     "name": "stdout",
     "output_type": "stream",
     "text": [
      "(784, 41000)\n"
     ]
    }
   ],
   "source": [
    "\n",
    "dev = data[0:1000].T\n",
    "y_dev = dev[0]\n",
    "x_dev = dev[1:n]\n",
    "x_dev = x_dev / 255\n",
    "\n",
    "train = data[1000:m].T\n",
    "y_train = train[0]\n",
    "x_train = train[1:n]\n",
    "x_train = x_train / 255\n",
    "\n",
    "print(x_train.shape)"
   ]
  },
  {
   "cell_type": "code",
   "execution_count": 7,
   "metadata": {},
   "outputs": [
    {
     "data": {
      "text/plain": [
       "Array([1, 5, 1, ..., 7, 6, 9], dtype=int32)"
      ]
     },
     "execution_count": 7,
     "metadata": {},
     "output_type": "execute_result"
    }
   ],
   "source": [
    "y_train"
   ]
  },
  {
   "cell_type": "code",
   "execution_count": 8,
   "metadata": {},
   "outputs": [],
   "source": [
    "def generate_subkey(key):\n",
    "    key, subkey = random.split(key)\n",
    "    return subkey\n",
    "\n",
    "def ReLU(vec):\n",
    "    return jnp.maximum(vec, 0)\n",
    "\n",
    "def der_ReLU(vec):\n",
    "    return vec > 0\n",
    "\n",
    "def softmax(vec):\n",
    "    return jnp.exp(vec) / sum(jnp.exp(vec))\n",
    "\n",
    "def one_hot_enc(vec):\n",
    "    one_hot = jnp.zeros((vec.size, vec.max() + 1))\n",
    "    one_hot = one_hot.at[jnp.arange(vec.size), vec].set(1)\n",
    "    return one_hot.T\n",
    "\n",
    "def init_params():\n",
    "    key = random.key(42)\n",
    "    key, subkey = random.split(key)\n",
    "    first_weights = random.uniform(subkey, shape=(10, 784)) - 0.5\n",
    "    key, subkey = random.split(key)\n",
    "    first_bias = random.uniform(subkey, shape=(10, 1)) - 0.5\n",
    "    key, subkey = random.split(key)\n",
    "    second_weights = random.uniform(subkey, shape=(10, 10)) - 0.5\n",
    "    key, subkey = random.split(key)\n",
    "    second_bias = random.uniform(subkey, shape=(10, 1)) - 0.5\n",
    "    return first_weights, first_bias, second_weights, second_bias\n",
    "\n",
    "def forward(w1, b1, w2, b2, inp):\n",
    "    out1 = w1.dot(inp) + b1\n",
    "    act1 = ReLU(out1)\n",
    "    out2 = w2.dot(act1) + b2\n",
    "    act2 = softmax(out2)\n",
    "    return out1, act1, out2, act2\n",
    "\n",
    "def backward(out1, act1, out2, act2, first_w, second_w, inp, labels):\n",
    "    one_hot_label = one_hot_enc(labels)\n",
    "    d_out2 = act2 - one_hot_label\n",
    "    d_weight2 = 1 / m * d_out2.dot(act1.T)\n",
    "    d_bias2 = 1 / m * jnp.sum(d_out2)\n",
    "    d_out1 = second_w.T.dot(d_out2) * der_ReLU(out1)\n",
    "    d_weight1 = 1 / m * d_out1.dot(inp.T)\n",
    "    d_bias1 = 1 / m * jnp.sum(out1)\n",
    "    return d_weight1, d_bias1, d_weight2, d_bias2\n",
    "\n",
    "def update_params(weight1, bias1, weight2, bias2, d_weight1, d_bias1, d_weight2, d_bias2, learning_rate):\n",
    "    w1 = weight1 - learning_rate * d_weight1\n",
    "    b1 = bias1 - learning_rate * d_bias1\n",
    "    w2 = weight2 - learning_rate * d_weight2\n",
    "    b2 = bias2 - learning_rate * d_bias2\n",
    "    return w1, b1, w2, b2\n"
   ]
  },
  {
   "cell_type": "code",
   "execution_count": 9,
   "metadata": {},
   "outputs": [],
   "source": [
    "def get_predictions(act2):\n",
    "    return jnp.argmax(act2, 0)\n",
    "\n",
    "def get_accuracy(predictions, labels):\n",
    "    print(predictions, labels)\n",
    "    return jnp.sum(predictions == labels) / labels.size\n",
    "\n",
    "def gradient_descent(inp, labels, learning_rate, iterations):\n",
    "    w1, b1, w2, b2 = init_params()\n",
    "    for i in range(0, iterations):\n",
    "        out1, act1, out2, act2 = forward(w1, b1, w2, b2, inp)\n",
    "        dw1, db1, dw2, db2 = backward(out1, act1, out2, act2, w1, w2, inp, labels)\n",
    "        w1, b1, w2, b2 = update_params(w1, b1, w2, b2, dw1, db1, dw2, db2, learning_rate)\n",
    "        if i % 100 == 0:\n",
    "            print(\"Iteration: \", i)\n",
    "            predictions = get_predictions(act2)\n",
    "            print(get_accuracy(predictions, labels))\n",
    "    return w1, b1, w2, b2"
   ]
  },
  {
   "cell_type": "code",
   "execution_count": 10,
   "metadata": {},
   "outputs": [
    {
     "data": {
      "text/plain": [
       "[CpuDevice(id=0)]"
      ]
     },
     "execution_count": 10,
     "metadata": {},
     "output_type": "execute_result"
    }
   ],
   "source": [
    "jax.devices() "
   ]
  },
  {
   "cell_type": "code",
   "execution_count": 11,
   "metadata": {},
   "outputs": [
    {
     "name": "stdout",
     "output_type": "stream",
     "text": [
      "Iteration:  0\n",
      "[2 3 0 ... 0 3 7] [1 5 1 ... 7 6 9]\n",
      "0.071707316\n",
      "Iteration:  100\n",
      "[1 6 1 ... 7 6 9] [1 5 1 ... 7 6 9]\n",
      "0.7574634\n",
      "Iteration:  200\n",
      "[1 4 1 ... 7 6 9] [1 5 1 ... 7 6 9]\n",
      "0.8167317\n",
      "Iteration:  300\n",
      "[1 4 1 ... 7 6 9] [1 5 1 ... 7 6 9]\n",
      "0.8406829\n",
      "Iteration:  400\n",
      "[1 4 1 ... 7 6 9] [1 5 1 ... 7 6 9]\n",
      "0.8523171\n",
      "Iteration:  500\n",
      "[1 5 1 ... 7 6 9] [1 5 1 ... 7 6 9]\n",
      "0.8592683\n",
      "Iteration:  600\n",
      "[1 9 1 ... 7 6 9] [1 5 1 ... 7 6 9]\n",
      "0.8588049\n",
      "Iteration:  700\n",
      "[1 9 1 ... 7 6 9] [1 5 1 ... 7 6 9]\n",
      "0.86765856\n",
      "Iteration:  800\n",
      "[1 9 1 ... 7 6 9] [1 5 1 ... 7 6 9]\n",
      "0.8342439\n",
      "Iteration:  900\n",
      "[1 9 1 ... 7 6 9] [1 5 1 ... 7 6 9]\n",
      "0.87217075\n"
     ]
    }
   ],
   "source": [
    "w1, b1, w2, b2 = gradient_descent(x_train, y_train, 0.2, 1000)"
   ]
  }
 ],
 "metadata": {
  "kernelspec": {
   "display_name": "nn-jax",
   "language": "python",
   "name": "python3"
  },
  "language_info": {
   "codemirror_mode": {
    "name": "ipython",
    "version": 3
   },
   "file_extension": ".py",
   "mimetype": "text/x-python",
   "name": "python",
   "nbconvert_exporter": "python",
   "pygments_lexer": "ipython3",
   "version": "3.11.3"
  }
 },
 "nbformat": 4,
 "nbformat_minor": 2
}
